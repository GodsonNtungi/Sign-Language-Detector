{
 "cells": [
  {
   "cell_type": "code",
   "execution_count": 1,
   "id": "57da469e",
   "metadata": {},
   "outputs": [],
   "source": [
    "import tensorflow as tf\n",
    "import mediapipe as mp\n",
    "import cv2\n",
    "import pandas as pd\n",
    "import numpy as np"
   ]
  },
  {
   "cell_type": "code",
   "execution_count": null,
   "id": "56df8f0e",
   "metadata": {},
   "outputs": [],
   "source": [
    "while cap.isOpened():\n",
    "    _,frame = cap.read()\n",
    "    frame=cv2.flip(frame,1)\n",
    "    cv2.imshow('gody',frame)\n",
    "    if cv2.waitKey(10) & 0xFF == ord('q'): \n",
    "        break\n",
    "cap.release()\n",
    "cv2.destroyAllWindows()"
   ]
  },
  {
   "cell_type": "code",
   "execution_count": null,
   "id": "ccfdb780",
   "metadata": {},
   "outputs": [],
   "source": [
    "84/4"
   ]
  },
  {
   "cell_type": "code",
   "execution_count": 14,
   "id": "80c640af",
   "metadata": {},
   "outputs": [
    {
     "name": "stdout",
     "output_type": "stream",
     "text": [
      "85\n"
     ]
    }
   ],
   "source": [
    "landmarks=['class']\n",
    "for i in range(1,22):\n",
    "    landmarks += ['x{}'.format(i),'y{}'.format(i),'z{}'.format(i),'v{}'.format(i)]\n",
    "\n",
    "print(len(landmarks))\n",
    "work=pd.DataFrame(columns=landmarks)"
   ]
  },
  {
   "cell_type": "code",
   "execution_count": null,
   "id": "2699115d",
   "metadata": {},
   "outputs": [],
   "source": [
    "mp_hands=mp.solutions.hands\n",
    "mp_draw=mp.solutions.drawing_utils\n",
    "mp_drawing_style=mp.solutions.drawing_styles\n",
    "cap = cv2.VideoCapture(0)\n",
    "\n",
    "\n",
    "index=0\n",
    "img_count = 0\n",
    "frames_count = 0\n",
    "alphabet =['A','B','C','D','E','F','G','H','I','J','K','L','M','N','O','P','Q','R','S','T','U','V','W','X','Y','Z']\n",
    "with mp_hands.Hands() as hand:\n",
    "    while cap.isOpened():\n",
    "        _, frame = cap.read()\n",
    "        frame = cv2.flip(frame, 1)\n",
    "        frame.flags.writeable = False\n",
    "        frame = cv2.cvtColor(frame,cv2.COLOR_BGR2RGB )\n",
    "        results = hand.process(frame)\n",
    "        frame.flags.writeable = True\n",
    "        \n",
    "        if results.multi_hand_landmarks:\n",
    "            for hand_landmark in results.multi_hand_landmarks:\n",
    "                mp_draw.draw_landmarks(frame,hand_landmark,mp_hands.HAND_CONNECTIONS,\n",
    "                        mp_drawing_style.get_default_hand_landmarks_style(),\n",
    "                       mp_drawing_style.get_default_hand_connections_style())\n",
    "            \n",
    "            hands = results.multi_hand_landmarks[0].landmark\n",
    "            frames_count += 1\n",
    "            if frames_count % 5 == 0:\n",
    "                img_count += 1\n",
    "                hand_row=list(np.array([[landmark.x,landmark.y,landmark.z,landmark.visibility] for landmark in hands]).flatten())\n",
    "                hand_row.insert(0,alphabet[index])\n",
    "                added=pd.DataFrame([hand_row],columns=landmarks)\n",
    "                work=pd.concat([work,added])\n",
    "            \n",
    "        Text = alphabet[index] +' Images: ' + str(img_count)\n",
    "        frame = cv2.cvtColor(frame, cv2.COLOR_RGB2BGR)\n",
    "        frame = cv2.putText(frame,Text,(50,80), cv2.FONT_HERSHEY_SIMPLEX,1,(0,0,0),4)\n",
    "        cv2.imshow('Window',frame)\n",
    "        n = cv2.waitKey(1) & 0xFF == ord('n')\n",
    "        b = cv2.waitKey(1) &0xFF == ord('b')\n",
    "        q = cv2.waitKey(1) & 0xFF == ord('q')\n",
    "        if n: \n",
    "            if index != 25:\n",
    "                index += 1\n",
    "                img_count = 0\n",
    "        if b: \n",
    "            if index != 0:\n",
    "                index -= 1\n",
    "            \n",
    "        if q: \n",
    "            break\n",
    "cap.release()\n",
    "cv2.destroyAllWindows()"
   ]
  },
  {
   "cell_type": "code",
   "execution_count": 18,
   "id": "9be87c83",
   "metadata": {},
   "outputs": [],
   "source": [
    "work.to_csv('hand_letters.csv',index=False)"
   ]
  },
  {
   "cell_type": "code",
   "execution_count": 20,
   "id": "a3baefbb",
   "metadata": {},
   "outputs": [],
   "source": [
    "cap.release()\n",
    "cv2.destroyAllWindows()"
   ]
  },
  {
   "cell_type": "code",
   "execution_count": 21,
   "id": "a30ea288",
   "metadata": {},
   "outputs": [],
   "source": [
    "from sklearn.ensemble import RandomForestClassifier as RFC"
   ]
  },
  {
   "cell_type": "code",
   "execution_count": 22,
   "id": "db1e9e70",
   "metadata": {},
   "outputs": [],
   "source": [
    "model =RFC(verbose=2)"
   ]
  },
  {
   "cell_type": "code",
   "execution_count": 23,
   "id": "263a4dfc",
   "metadata": {},
   "outputs": [],
   "source": [
    "data = pd.read_csv('hand_letters.csv')"
   ]
  },
  {
   "cell_type": "code",
   "execution_count": 24,
   "id": "903888e8",
   "metadata": {},
   "outputs": [],
   "source": [
    "target = data.pop('class')"
   ]
  },
  {
   "cell_type": "code",
   "execution_count": 25,
   "id": "bd890e32",
   "metadata": {},
   "outputs": [
    {
     "data": {
      "text/html": [
       "<style>#sk-container-id-1 {color: black;background-color: white;}#sk-container-id-1 pre{padding: 0;}#sk-container-id-1 div.sk-toggleable {background-color: white;}#sk-container-id-1 label.sk-toggleable__label {cursor: pointer;display: block;width: 100%;margin-bottom: 0;padding: 0.3em;box-sizing: border-box;text-align: center;}#sk-container-id-1 label.sk-toggleable__label-arrow:before {content: \"▸\";float: left;margin-right: 0.25em;color: #696969;}#sk-container-id-1 label.sk-toggleable__label-arrow:hover:before {color: black;}#sk-container-id-1 div.sk-estimator:hover label.sk-toggleable__label-arrow:before {color: black;}#sk-container-id-1 div.sk-toggleable__content {max-height: 0;max-width: 0;overflow: hidden;text-align: left;background-color: #f0f8ff;}#sk-container-id-1 div.sk-toggleable__content pre {margin: 0.2em;color: black;border-radius: 0.25em;background-color: #f0f8ff;}#sk-container-id-1 input.sk-toggleable__control:checked~div.sk-toggleable__content {max-height: 200px;max-width: 100%;overflow: auto;}#sk-container-id-1 input.sk-toggleable__control:checked~label.sk-toggleable__label-arrow:before {content: \"▾\";}#sk-container-id-1 div.sk-estimator input.sk-toggleable__control:checked~label.sk-toggleable__label {background-color: #d4ebff;}#sk-container-id-1 div.sk-label input.sk-toggleable__control:checked~label.sk-toggleable__label {background-color: #d4ebff;}#sk-container-id-1 input.sk-hidden--visually {border: 0;clip: rect(1px 1px 1px 1px);clip: rect(1px, 1px, 1px, 1px);height: 1px;margin: -1px;overflow: hidden;padding: 0;position: absolute;width: 1px;}#sk-container-id-1 div.sk-estimator {font-family: monospace;background-color: #f0f8ff;border: 1px dotted black;border-radius: 0.25em;box-sizing: border-box;margin-bottom: 0.5em;}#sk-container-id-1 div.sk-estimator:hover {background-color: #d4ebff;}#sk-container-id-1 div.sk-parallel-item::after {content: \"\";width: 100%;border-bottom: 1px solid gray;flex-grow: 1;}#sk-container-id-1 div.sk-label:hover label.sk-toggleable__label {background-color: #d4ebff;}#sk-container-id-1 div.sk-serial::before {content: \"\";position: absolute;border-left: 1px solid gray;box-sizing: border-box;top: 0;bottom: 0;left: 50%;z-index: 0;}#sk-container-id-1 div.sk-serial {display: flex;flex-direction: column;align-items: center;background-color: white;padding-right: 0.2em;padding-left: 0.2em;position: relative;}#sk-container-id-1 div.sk-item {position: relative;z-index: 1;}#sk-container-id-1 div.sk-parallel {display: flex;align-items: stretch;justify-content: center;background-color: white;position: relative;}#sk-container-id-1 div.sk-item::before, #sk-container-id-1 div.sk-parallel-item::before {content: \"\";position: absolute;border-left: 1px solid gray;box-sizing: border-box;top: 0;bottom: 0;left: 50%;z-index: -1;}#sk-container-id-1 div.sk-parallel-item {display: flex;flex-direction: column;z-index: 1;position: relative;background-color: white;}#sk-container-id-1 div.sk-parallel-item:first-child::after {align-self: flex-end;width: 50%;}#sk-container-id-1 div.sk-parallel-item:last-child::after {align-self: flex-start;width: 50%;}#sk-container-id-1 div.sk-parallel-item:only-child::after {width: 0;}#sk-container-id-1 div.sk-dashed-wrapped {border: 1px dashed gray;margin: 0 0.4em 0.5em 0.4em;box-sizing: border-box;padding-bottom: 0.4em;background-color: white;}#sk-container-id-1 div.sk-label label {font-family: monospace;font-weight: bold;display: inline-block;line-height: 1.2em;}#sk-container-id-1 div.sk-label-container {text-align: center;}#sk-container-id-1 div.sk-container {/* jupyter's `normalize.less` sets `[hidden] { display: none; }` but bootstrap.min.css set `[hidden] { display: none !important; }` so we also need the `!important` here to be able to override the default hidden behavior on the sphinx rendered scikit-learn.org. See: https://github.com/scikit-learn/scikit-learn/issues/21755 */display: inline-block !important;position: relative;}#sk-container-id-1 div.sk-text-repr-fallback {display: none;}</style><div id=\"sk-container-id-1\" class=\"sk-top-container\"><div class=\"sk-text-repr-fallback\"><pre>RandomForestClassifier()</pre><b>In a Jupyter environment, please rerun this cell to show the HTML representation or trust the notebook. <br />On GitHub, the HTML representation is unable to render, please try loading this page with nbviewer.org.</b></div><div class=\"sk-container\" hidden><div class=\"sk-item\"><div class=\"sk-estimator sk-toggleable\"><input class=\"sk-toggleable__control sk-hidden--visually\" id=\"sk-estimator-id-1\" type=\"checkbox\" checked><label for=\"sk-estimator-id-1\" class=\"sk-toggleable__label sk-toggleable__label-arrow\">RandomForestClassifier</label><div class=\"sk-toggleable__content\"><pre>RandomForestClassifier()</pre></div></div></div></div></div>"
      ],
      "text/plain": [
       "RandomForestClassifier()"
      ]
     },
     "execution_count": 25,
     "metadata": {},
     "output_type": "execute_result"
    }
   ],
   "source": [
    "model.fit(data,target)"
   ]
  },
  {
   "cell_type": "code",
   "execution_count": 27,
   "id": "854a701b",
   "metadata": {},
   "outputs": [],
   "source": [
    "from sklearn.model_selection import cross_val_score as cvs"
   ]
  },
  {
   "cell_type": "code",
   "execution_count": 28,
   "id": "6b508303",
   "metadata": {},
   "outputs": [
    {
     "name": "stderr",
     "output_type": "stream",
     "text": [
      "[Parallel(n_jobs=1)]: Using backend SequentialBackend with 1 concurrent workers.\n"
     ]
    },
    {
     "name": "stdout",
     "output_type": "stream",
     "text": [
      "[CV] END .................................................... total time=   0.4s\n"
     ]
    },
    {
     "name": "stderr",
     "output_type": "stream",
     "text": [
      "[Parallel(n_jobs=1)]: Done   1 out of   1 | elapsed:    0.5s remaining:    0.0s\n"
     ]
    },
    {
     "name": "stdout",
     "output_type": "stream",
     "text": [
      "[CV] END .................................................... total time=   0.4s\n",
      "[CV] END .................................................... total time=   0.4s\n",
      "[CV] END .................................................... total time=   0.4s\n",
      "[CV] END .................................................... total time=   0.4s\n"
     ]
    },
    {
     "name": "stderr",
     "output_type": "stream",
     "text": [
      "[Parallel(n_jobs=1)]: Done   5 out of   5 | elapsed:    2.6s finished\n"
     ]
    }
   ],
   "source": [
    "score = cvs(model,data,target,cv=5,verbose=2)"
   ]
  },
  {
   "cell_type": "code",
   "execution_count": 29,
   "id": "3c28567a",
   "metadata": {},
   "outputs": [
    {
     "data": {
      "text/plain": [
       "array([0.84558824, 0.94814815, 0.97777778, 0.94074074, 0.9037037 ])"
      ]
     },
     "execution_count": 29,
     "metadata": {},
     "output_type": "execute_result"
    }
   ],
   "source": [
    "score"
   ]
  },
  {
   "cell_type": "code",
   "execution_count": null,
   "id": "f2dc058d",
   "metadata": {},
   "outputs": [],
   "source": [
    "mp_hands=mp.solutions.hands\n",
    "mp_draw=mp.solutions.drawing_utils\n",
    "mp_drawing_style=mp.solutions.drawing_styles\n",
    "cap = cv2.VideoCapture(0)\n",
    "\n",
    "\n",
    "index=0\n",
    "img_count = 0\n",
    "frames_count = 0\n",
    "text = ''\n",
    "letter = ''\n",
    "alphabet =['A','B','C','D','E','F','G','H','I','J','K','L','M','N','O','P','Q','R','S','T','U','V','W','X','Y','Z']\n",
    "with mp_hands.Hands() as hand:\n",
    "    while cap.isOpened():\n",
    "        _, frame = cap.read()\n",
    "        frame = cv2.flip(frame, 1)\n",
    "        frame.flags.writeable = False\n",
    "        frame = cv2.cvtColor(frame,cv2.COLOR_BGR2RGB )\n",
    "        results = hand.process(frame)\n",
    "        frame.flags.writeable = True\n",
    "        \n",
    "        if results.multi_hand_landmarks:\n",
    "            for hand_landmark in results.multi_hand_landmarks:\n",
    "                mp_draw.draw_landmarks(frame,hand_landmark,mp_hands.HAND_CONNECTIONS,\n",
    "                        mp_drawing_style.get_default_hand_landmarks_style(),\n",
    "                       mp_drawing_style.get_default_hand_connections_style())\n",
    "            \n",
    "            hands = results.multi_hand_landmarks[0].landmark\n",
    "            \n",
    "            hand_row=list(np.array([[landmark.x,landmark.y,landmark.z,landmark.visibility] for landmark in hands]).flatten())\n",
    "            prediction = model.predict([hand_row])\n",
    "            letter = prediction[0]\n",
    "       \n",
    "                \n",
    "            \n",
    "        text += letter\n",
    "        frame = cv2.cvtColor(frame, cv2.COLOR_RGB2BGR)\n",
    "        frame = cv2.putText(frame,text,(50,80), cv2.FONT_HERSHEY_SIMPLEX,1,(0,0,0),4)\n",
    "        cv2.imshow('Window',frame)\n",
    "        n = cv2.waitKey(1) & 0xFF == ord('n')\n",
    "        b = cv2.waitKey(1) &0xFF == ord('b')\n",
    "        q = cv2.waitKey(1) & 0xFF == ord('q')\n",
    "        if n: \n",
    "            if index != 25:\n",
    "                index += 1\n",
    "                img_count = 0\n",
    "        if b: \n",
    "            if index != 0:\n",
    "                index -= 1\n",
    "            \n",
    "        if q: \n",
    "            break\n",
    "cap.release()\n",
    "cv2.destroyAllWindows()"
   ]
  }
 ],
 "metadata": {
  "kernelspec": {
   "display_name": "Python 3",
   "language": "python",
   "name": "python3"
  },
  "language_info": {
   "codemirror_mode": {
    "name": "ipython",
    "version": 3
   },
   "file_extension": ".py",
   "mimetype": "text/x-python",
   "name": "python",
   "nbconvert_exporter": "python",
   "pygments_lexer": "ipython3",
   "version": "3.8.8"
  }
 },
 "nbformat": 4,
 "nbformat_minor": 5
}
