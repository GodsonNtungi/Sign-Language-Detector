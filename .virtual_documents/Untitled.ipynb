import tensorflow as tf
import mediapipe as mp
import cv2





while cap.isOpened():
    _,frame = cap.read()
    frame=cv2.flip(frame,1)
    cv2.imshow('gody',frame)
    if cv2.waitKey(10) & 0xFF == ord('q'): 
        break
cap.release()
cv2.destroyAllWindows()


mp_hands=mp.solutions.hands
mp_draw=mp.solutions.drawing_utils
mp_drawing_style=mp.solutions.drawing_styles
cap = cv2.VideoCapture(0)
with mp_hands.Hands() as hand:
    while cap.isOpened():
        _, frame = cap.read()
        frame = cv2.flip(frame, 1)
        frame.flags.writeable = False
        frame = cv2.cvtColor(frame,cv2.COLOR_BGR2RGB )
        results = hand.process(frame)
        frame.flags.writeable = True
        
        if results.multi_hand_landmarks:
            for hand_landmark in results.multi_hand_landmarks:
                mp_draw.draw_landmarks(frame,hand_landmark,mp_hands.HAND_CONNECTIONS,
                        mp_drawing_style.get_default_hand_landmarks_style(),
                       mp_drawing_style.get_default_hand_connections_style())
        frame = cv2.cvtColor(frame, cv2.COLOR_RGB2BGR)
        cv2.imshow('gody',frame)
        if cv2.waitKey(10) & 0xFF == ord('q'): 
            break
cap.release()
cv2.destroyAllWindows()
    



